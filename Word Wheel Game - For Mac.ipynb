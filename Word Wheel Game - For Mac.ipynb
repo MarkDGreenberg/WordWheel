{
 "cells": [
  {
   "cell_type": "code",
   "execution_count": 1,
   "metadata": {},
   "outputs": [],
   "source": [
    "import requests\n",
    "import pandas as pd\n",
    "import os\n",
    "import sys\n",
    "import collections as cl"
   ]
  },
  {
   "cell_type": "code",
   "execution_count": null,
   "metadata": {},
   "outputs": [],
   "source": [
    "ID = '3rvj3tohuhvv3peoxlsiklp2qdv9bsyppbt5wabiru2biefmh'"
   ]
  },
  {
   "cell_type": "code",
   "execution_count": null,
   "metadata": {},
   "outputs": [],
   "source": [
    "laptop = input(\"Press 1 for managed laptop or 2 for personal: \")\n",
    "if laptop == '1':\n",
    "    owner = 'e073134'\n",
    "else:\n",
    "    owner = 'mark'"
   ]
  },
  {
   "cell_type": "code",
   "execution_count": null,
   "metadata": {},
   "outputs": [],
   "source": [
    "filepath = '/Users/' + owner + '/documents/wordwheelfiles/'"
   ]
  },
  {
   "cell_type": "code",
   "execution_count": null,
   "metadata": {},
   "outputs": [],
   "source": [
    "tests = {'test1':'word already tried','test2':'3 letters minimum','test3':'not plural',\n",
    "         'test4':'all letters are in wheel','test5':'using key letter','test6':'legitimate word'}"
   ]
  },
  {
   "cell_type": "code",
   "execution_count": null,
   "metadata": {},
   "outputs": [],
   "source": [
    "#Test 1\n",
    "def test1(x):\n",
    "    global wordlist\n",
    "    if x in wordlist:\n",
    "        return 0\n",
    "    else:\n",
    "        return 1"
   ]
  },
  {
   "cell_type": "code",
   "execution_count": null,
   "metadata": {},
   "outputs": [],
   "source": [
    "#Test 2\n",
    "def test2(x):\n",
    "    if len(x) < 3:\n",
    "        return 0\n",
    "    else:\n",
    "        return 1"
   ]
  },
  {
   "cell_type": "code",
   "execution_count": null,
   "metadata": {},
   "outputs": [],
   "source": [
    "#Test 3"
   ]
  },
  {
   "cell_type": "code",
   "execution_count": null,
   "metadata": {},
   "outputs": [],
   "source": [
    "#Test 4\n",
    "def test4(x):\n",
    "    global match\n",
    "    match = 0\n",
    "    for i in range(0,len(x)):\n",
    "        if x[i] in wheel:\n",
    "            match += 1\n",
    "    if match != len(x):\n",
    "        return 0\n",
    "    else:\n",
    "        return 1"
   ]
  },
  {
   "cell_type": "code",
   "execution_count": null,
   "metadata": {},
   "outputs": [],
   "source": [
    "#Test 4b\n",
    "def test4b(x):\n",
    "    global match\n",
    "    match = 0\n",
    "    for key in x:\n",
    "        if key in wheel:\n",
    "            if x[key] <= wheel_letters[key]:\n",
    "                match += 1\n",
    "    if match != len(x):\n",
    "        return 0\n",
    "    else:\n",
    "        return 1"
   ]
  },
  {
   "cell_type": "code",
   "execution_count": null,
   "metadata": {},
   "outputs": [],
   "source": [
    "#Test 5\n",
    "def test5(x):\n",
    "    if wheel[0] not in x:\n",
    "        return 0\n",
    "    else:\n",
    "        return 1"
   ]
  },
  {
   "cell_type": "code",
   "execution_count": null,
   "metadata": {},
   "outputs": [],
   "source": [
    "#Test 6\n",
    "def test6(x):    \n",
    "    url = 'https://api.wordnik.com/v4/word.json/' + x + '/definitions?api_key='\n",
    "    Response = requests.get(url+ID)\n",
    "    if Response.status_code != 200:\n",
    "        return 0\n",
    "    else:\n",
    "        return 1"
   ]
  },
  {
   "cell_type": "code",
   "execution_count": null,
   "metadata": {},
   "outputs": [],
   "source": [
    "def savewheel():\n",
    "    File = open(filepath+wordlist[0]+'.txt','w')\n",
    "    for item in wordlist:\n",
    "        File.write(item)\n",
    "        File.write('\\n')\n",
    "    File.close()"
   ]
  },
  {
   "cell_type": "code",
   "execution_count": null,
   "metadata": {},
   "outputs": [],
   "source": [
    "#match = 0\n",
    "wordlist = []"
   ]
  },
  {
   "cell_type": "code",
   "execution_count": null,
   "metadata": {},
   "outputs": [],
   "source": [
    "option = input('Enter N to start a new word wheel or C to continue with a previous word wheel ')"
   ]
  },
  {
   "cell_type": "code",
   "execution_count": null,
   "metadata": {},
   "outputs": [],
   "source": [
    "if option in ('c','C'):\n",
    "    Previous_Words = sorted([f for f in os.listdir(filepath) if f.endswith('.txt')])\n",
    "    print('Choice of Previous Words: \\n')\n",
    "    for w in range(len(Previous_Words)):\n",
    "        print(str(w+1) + ' - (' + Previous_Words[w][0] + ')' + Previous_Words[w][1:9])\n",
    "    choosewheel = int(input('\\nWhich word wheel do you want? '))\n",
    "    chosenfile = Previous_Words[choosewheel-1]   \n",
    "    with open(filepath+chosenfile) as f:\n",
    "        wordlist = f.read().splitlines()\n",
    "        wheel = wordlist[0]\n",
    "        average = wordlist[1]\n",
    "        target = wordlist[2]\n",
    "    wheel_letters = dict(cl.Counter(wheel))\n",
    "    print('\\nYou chose WordWheel: '+ wheel)\n",
    "    print(str('\\nAverage score: ') + average)\n",
    "    print(str('Target score:' ) + target)\n",
    "    print('Words so far:\\n')\n",
    "    for i in range(3,len(wordlist)):\n",
    "        print(wordlist[i])\n",
    "    pause = input('\\nAny key to continue')\n",
    "    \n",
    "elif option in ('n','N'):\n",
    "    wheel = str(input('Enter letters from word wheel, starting with central letter: ').upper())\n",
    "    print()\n",
    "    average = \"Avge score: \" + str(input('What is the average word score for this wordwheel? '))\n",
    "    print()\n",
    "    target = \"Target score: \" + str(input('What is the target word score for this wordwheel? '))\n",
    "    wordlist.insert(0,wheel)\n",
    "    wordlist.insert(1,average)\n",
    "    wordlist.insert(2,target)\n",
    "    wheel_letters = dict(cl.Counter(wheel))"
   ]
  },
  {
   "cell_type": "code",
   "execution_count": null,
   "metadata": {},
   "outputs": [],
   "source": [
    "wordlist"
   ]
  },
  {
   "cell_type": "code",
   "execution_count": null,
   "metadata": {},
   "outputs": [],
   "source": [
    "try_word = ''"
   ]
  },
  {
   "cell_type": "code",
   "execution_count": null,
   "metadata": {},
   "outputs": [],
   "source": [
    "while try_word not in ('xxx','XXX'):\n",
    "    try_word = input('Try a word(XXX to quit): ').upper()\n",
    "    try_word_letters = dict(cl.Counter(try_word))\n",
    "    if try_word in ('xxx','XXX'):\n",
    "        savewheel()\n",
    "        print('You have now found ' + str(len(wordlist)-3)+ ' words vs target of ' + str(target))\n",
    "        break\n",
    "    else:\n",
    "        result = 1\n",
    "        while result == 1:\n",
    "            result = result * test1(try_word)\n",
    "            print(\"R1=\" + str(result))\n",
    "            result = result * test2(try_word)\n",
    "            print(\"R2=\" + str(result))\n",
    "            result = result * test4b(try_word_letters)\n",
    "            print(\"R4b=\" + str(result))\n",
    "            result = result * test5(try_word)\n",
    "            print(\"R5=\" + str(result))\n",
    "            result = result * test6(try_word)\n",
    "            print(\"R6=\" + str(result))\n",
    "            if result == 1:\n",
    "                wordlist.append(try_word)\n",
    "            print(wordlist)\n",
    "            result = 0"
   ]
  },
  {
   "cell_type": "code",
   "execution_count": null,
   "metadata": {},
   "outputs": [],
   "source": [
    "print('You have now found ' + str(len(wordlist)-3)+ ' words vs target of ' + str(target))"
   ]
  },
  {
   "cell_type": "code",
   "execution_count": null,
   "metadata": {},
   "outputs": [],
   "source": [
    "print(wordlist)"
   ]
  },
  {
   "cell_type": "code",
   "execution_count": null,
   "metadata": {},
   "outputs": [],
   "source": []
  }
 ],
 "metadata": {
  "kernelspec": {
   "display_name": "Python 3",
   "language": "python",
   "name": "python3"
  },
  "language_info": {
   "codemirror_mode": {
    "name": "ipython",
    "version": 3
   },
   "file_extension": ".py",
   "mimetype": "text/x-python",
   "name": "python",
   "nbconvert_exporter": "python",
   "pygments_lexer": "ipython3",
   "version": "3.7.3"
  }
 },
 "nbformat": 4,
 "nbformat_minor": 2
}
